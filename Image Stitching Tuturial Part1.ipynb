{
 "cells": [
  {
   "cell_type": "markdown",
   "metadata": {},
   "source": [
    "# 2D Motion Model"
   ]
  },
  {
   "cell_type": "markdown",
   "metadata": {},
   "source": [
    "In this tuturial we will show the different 2D transformations:\n",
    "1. Translation\n",
    "2. Rotation\n",
    "3. Scaled rotation\n",
    "4. Affine\n",
    "5. Projective\n",
    "\n",
    "The transformation are on points (x,y) in 2D plane."
   ]
  },
  {
   "cell_type": "code",
   "execution_count": 1,
   "metadata": {
    "collapsed": true
   },
   "outputs": [],
   "source": [
    "import numpy as np\n",
    "import matplotlib.pyplot as plt"
   ]
  },
  {
   "cell_type": "markdown",
   "metadata": {},
   "source": [
    "The transformations will be demonstrated on a grid of 20X20 (nx X ny) points.\n"
   ]
  },
  {
   "cell_type": "code",
   "execution_count": 2,
   "metadata": {
    "collapsed": true
   },
   "outputs": [],
   "source": [
    "h = 1\n",
    "w = 1\n",
    "nx = 20\n",
    "ny = 20\n",
    "x, y = np.meshgrid(np.linspace(-h,h,nx),np.linspace(-w,w,ny))"
   ]
  },
  {
   "cell_type": "code",
   "execution_count": 3,
   "metadata": {
    "collapsed": false
   },
   "outputs": [
    {
     "data": {
      "image/png": "[encoded data removed]",
      "text/plain": [
       "<matplotlib.figure.Figure at 0x283be0e3518>"
      ]
     },
     "metadata": {},
     "output_type": "display_data"
    }
   ],
   "source": [
    "# plot the original points\n",
    "plt.scatter(x,y)\n",
    "plt.xlabel(\"x\")\n",
    "plt.ylabel(\"y\")\n",
    "plt.axhline(y=0, color='k')\n",
    "plt.axvline(x=0, color='k')\n",
    "plt.axis('equal')\n",
    "plt.show()"
   ]
  },
  {
   "cell_type": "markdown",
   "metadata": {},
   "source": [
    "### translation"
   ]
  },
  {
   "cell_type": "markdown",
   "metadata": {},
   "source": [
    "The first transform is the TRANSLATION. It shifts each point by a scalar, t_1 in the horizontal axis and t_2 in the vertical axis. It can be represented as matrix multiplication on every point:\n",
    "\n",
    "\\begin{equation}\n",
    "\\begin{pmatrix}\n",
    "x'\\\\y'\n",
    "\\end{pmatrix}\n",
    "=\n",
    "\\begin{pmatrix}\n",
    "1 \\ 0 \\ t_1\\\\\n",
    "0 \\ 1 \\ t_2\n",
    "\\end{pmatrix}\n",
    "\\begin{pmatrix}\n",
    "x\\\\y\\\\1\n",
    "\\end{pmatrix}\n",
    "=\n",
    "\\begin{pmatrix}\n",
    "x+t_1\\\\y+t_2\n",
    "\\end{pmatrix}\n",
    "\\end{equation}\n"
   ]
  },
  {
   "cell_type": "code",
   "execution_count": 4,
   "metadata": {
    "collapsed": false
   },
   "outputs": [],
   "source": [
    "# parameters to set:\n",
    "t_1 = 0.75\n",
    "t_2 = 1.25\n",
    "\n",
    "t = np.array([[t_1,t_2]])\n",
    "I = np.identity(2)\n",
    "M = np.concatenate((I,t.T),axis=1)\n",
    "\n",
    "x_trans = np.zeros(x.shape)\n",
    "y_trans = np.zeros(y.shape)\n",
    "\n",
    "for m in range(ny):\n",
    "    for n in range(nx):\n",
    "        x_i = np.array([x[m,n],y[m,n],1])\n",
    "        X = np.dot(M,x_i.T)\n",
    "        x_trans[m,n] = X[0]\n",
    "        y_trans[m,n] = X[1]"
   ]
  },
  {
   "cell_type": "code",
   "execution_count": 5,
   "metadata": {
    "collapsed": false
   },
   "outputs": [
    {
     "data": {
      "image/png": "[encoded data removed]",
      "text/plain": [
       "<matplotlib.figure.Figure at 0x283be544208>"
      ]
     },
     "metadata": {},
     "output_type": "display_data"
    }
   ],
   "source": [
    "# plot the original points\n",
    "plt.scatter(x_trans,y_trans)\n",
    "plt.xlabel(\"x\")\n",
    "plt.ylabel(\"y\")\n",
    "plt.axhline(y=0, color='k')\n",
    "plt.axvline(x=0, color='k')\n",
    "plt.axis('equal')\n",
    "plt.show()"
   ]
  },
  {
   "cell_type": "markdown",
   "metadata": {},
   "source": [
    "### Rotation and Translation"
   ]
  },
  {
   "cell_type": "markdown",
   "metadata": {},
   "source": [
    "The second transform is the ROTATION transform (in addition to translation). It rotate the points around the point (0,0) and then shift it like the previous transform. The parameters are: ${t_1, t_2}$ - shifting in the x and y axis and $ {\\theta} $ - the angle of rotation. \n",
    "\n",
    "\\begin{equation}\n",
    "\\begin{pmatrix}\n",
    "x'\\\\y'\n",
    "\\end{pmatrix}\n",
    "=\n",
    " [R, t] x\n",
    "=\n",
    "\\begin{pmatrix}\n",
    "{\\cos(\\theta)} \\  {-\\sin(\\theta)} \\ t_1\\\\\n",
    "{\\cos(\\theta)} \\  {\\sin(\\theta)} \\ t_2\n",
    "\\end{pmatrix}\n",
    "\\begin{pmatrix}\n",
    "x\\\\y\\\\1\n",
    "\\end{pmatrix}\n",
    "\\end{equation}\n",
    "\n",
    "Note that when ${\\theta = 0}$ the transform is eqivalent to the previous one (translation)."
   ]
  },
  {
   "cell_type": "code",
   "execution_count": 6,
   "metadata": {
    "collapsed": true
   },
   "outputs": [],
   "source": [
    "# parameters to set:\n",
    "t_1 = 0.5 # shifting in horizontal axis\n",
    "t_2 = 1   # shifting in vertical axis\n",
    "theta = np.pi / 3 # rotation (radians)\n",
    "\n",
    "t = np.array([[t_1,t_2]])\n",
    "R = np.array([[np.cos(theta),-np.sin(theta)],[np.sin(theta),np.cos(theta)]])\n",
    "M = np.concatenate((R,t.T),axis=1)\n",
    "\n",
    "x_rot = np.zeros(x.shape)\n",
    "y_rot = np.zeros(y.shape)\n",
    "\n",
    "for m in range(ny):\n",
    "    for n in range(nx):\n",
    "        x_i = np.array([x[m,n],y[m,n],1])\n",
    "        X = np.dot(M,x_i.T)\n",
    "        x_rot[m,n] = X[0]\n",
    "        y_rot[m,n] = X[1]"
   ]
  },
  {
   "cell_type": "code",
   "execution_count": 7,
   "metadata": {
    "collapsed": false
   },
   "outputs": [
    {
     "data": {
      "image/png": "[encoded data removed]",
      "text/plain": [
       "<matplotlib.figure.Figure at 0x283be5ef8d0>"
      ]
     },
     "metadata": {},
     "output_type": "display_data"
    }
   ],
   "source": [
    "# plot the original points\n",
    "plt.scatter(x_rot,y_rot)\n",
    "plt.xlabel(\"x\")\n",
    "plt.ylabel(\"y\")\n",
    "plt.axhline(y=0, color='k')\n",
    "plt.axvline(x=0, color='k')\n",
    "plt.axis('equal')\n",
    "plt.show()"
   ]
  },
  {
   "cell_type": "markdown",
   "metadata": {},
   "source": [
    "### Scaled Rotation"
   ]
  },
  {
   "cell_type": "markdown",
   "metadata": {},
   "source": [
    "In this transform, in addition to rotation and translation, the points might be scaled (strteched or shrincked) by a scalar s. \n",
    "\n",
    "\n",
    "\\begin{equation}\n",
    "\\begin{pmatrix}\n",
    "x'\\\\y'\n",
    "\\end{pmatrix}\n",
    "=\n",
    " [sR, t] x\n",
    "=\n",
    "\\begin{pmatrix}\n",
    "{s\\cos(\\theta)} \\  {-s\\sin(\\theta)} \\ t_1\\\\\n",
    "{s\\cos(\\theta)} \\  {s\\sin(\\theta)} \\ t_2\n",
    "\\end{pmatrix}\n",
    "\\begin{pmatrix}\n",
    "x\\\\y\\\\1\n",
    "\\end{pmatrix}\n",
    "\\end{equation}\n",
    "\n",
    "Note that when ${s = 0}$ the transform is eqivalent to the previous one (rotation)."
   ]
  },
  {
   "cell_type": "code",
   "execution_count": 8,
   "metadata": {
    "collapsed": true
   },
   "outputs": [],
   "source": [
    "# parameters to set:\n",
    "t_1 = 0.5 # shifting in horizontal axis\n",
    "t_2 = 1   # shifting in vertical axis\n",
    "theta = np.pi / 3 # rotation (radians)\n",
    "s = 0.5   # scale\n",
    "\n",
    "t = np.array([[t_1,t_2]])\n",
    "R = np.array([[np.cos(theta),-np.sin(theta)],[np.sin(theta),np.cos(theta)]])\n",
    "M = np.concatenate((s*R,t.T),axis=1)\n",
    "\n",
    "x_scaled = np.zeros(x.shape)\n",
    "y_scaled = np.zeros(y.shape)\n",
    "\n",
    "for m in range(ny):\n",
    "    for n in range(nx):\n",
    "        x_i = np.array([x[m,n],y[m,n],1])\n",
    "        X = np.dot(M,x_i.T)\n",
    "        x_scaled[m,n] = X[0]\n",
    "        y_scaled[m,n] = X[1]"
   ]
  },
  {
   "cell_type": "code",
   "execution_count": 9,
   "metadata": {
    "collapsed": false
   },
   "outputs": [
    {
     "data": {
      "image/png": "[encoded data removed]",
      "text/plain": [
       "<matplotlib.figure.Figure at 0x283be68dba8>"
      ]
     },
     "metadata": {},
     "output_type": "display_data"
    }
   ],
   "source": [
    "# plot the original points\n",
    "plt.scatter(x_scaled,y_scaled)\n",
    "plt.xlabel(\"x\")\n",
    "plt.ylabel(\"y\")\n",
    "plt.axhline(y=0, color='k')\n",
    "plt.axvline(x=0, color='k')\n",
    "plt.axis('equal')\n",
    "plt.show()"
   ]
  },
  {
   "cell_type": "markdown",
   "metadata": {},
   "source": [
    "### Affine Transform"
   ]
  },
  {
   "cell_type": "markdown",
   "metadata": {},
   "source": [
    "Until now all transforms preserved shapes, for example the square remains a square. The AFFINE transform can twists the shapes, it can transform a square to parallelogram. This transform preserves parallel lines.\n",
    "\n",
    "\\begin{equation}\n",
    "\\begin{pmatrix}\n",
    "x'\\\\y'\n",
    "\\end{pmatrix}\n",
    "=\n",
    "\\begin{pmatrix}\n",
    "{a_{00}} \\  {a_{01}} \\ {a_{02}}\\\\\n",
    "{a_{10}} \\  {a_{11}} \\ {a_{12}}\n",
    "\\end{pmatrix}\n",
    "\\begin{pmatrix}\n",
    "x\\\\y\\\\1\n",
    "\\end{pmatrix}\n",
    "\\end{equation}\n",
    "\n",
    "Note that when we set the scalars ${a_{ij}}$ as before - the transform is eqivalent to the previous one (scaled rotation)."
   ]
  },
  {
   "cell_type": "code",
   "execution_count": 10,
   "metadata": {
    "collapsed": true
   },
   "outputs": [],
   "source": [
    "# parameters to set:\n",
    "a_00 = 0.7\n",
    "a_01 = 0.1\n",
    "a_02 = 0.5 # shifting in horizontal axis\n",
    "a_10 = 0.1\n",
    "a_11 = 0.3\n",
    "a_12 = 0.5   # shifting in vertical axis\n",
    "\n",
    "M = np.array([[a_00,a_01,a_02],[a_10,a_11,a_12]])\n",
    "\n",
    "x_affine = np.zeros(x.shape)\n",
    "y_affine = np.zeros(y.shape)\n",
    "\n",
    "for m in range(ny):\n",
    "    for n in range(nx):\n",
    "        x_i = np.array([x[m,n],y[m,n],1])\n",
    "        X = np.dot(M,x_i.T)\n",
    "        x_affine[m,n] = X[0]\n",
    "        y_affine[m,n] = X[1]"
   ]
  },
  {
   "cell_type": "code",
   "execution_count": 11,
   "metadata": {
    "collapsed": false
   },
   "outputs": [
    {
     "data": {
      "image/png": "[encoded data removed]",
      "text/plain": [
       "<matplotlib.figure.Figure at 0x283be5ff8d0>"
      ]
     },
     "metadata": {},
     "output_type": "display_data"
    }
   ],
   "source": [
    "# plot the original points\n",
    "plt.scatter(x_affine,y_affine)\n",
    "plt.xlabel(\"x\")\n",
    "plt.ylabel(\"y\")\n",
    "plt.axhline(y=0, color='k')\n",
    "plt.axvline(x=0, color='k')\n",
    "plt.axis('equal')\n",
    "plt.show()"
   ]
  },
  {
   "cell_type": "markdown",
   "metadata": {},
   "source": [
    "### Projective Transform"
   ]
  },
  {
   "cell_type": "markdown",
   "metadata": {},
   "source": [
    "The PROJECTIVE transform (know also as PERSPECTIVE TRANSFORM and HOMOGRAPHY) preserve strate lines, but not parallel lines. It can transform a square to a tetragon.\n",
    "\n",
    "\n",
    "\\begin{equation}\n",
    "\\begin{pmatrix}\n",
    "\\tilde{x}'\\\\ \\tilde{y}'\\\\ \\tilde{z}'\n",
    "\\end{pmatrix}\n",
    "\\sim\n",
    "\\begin{pmatrix}\n",
    "{a_{00}} \\  {a_{01}} \\ {a_{02}}\\\\\n",
    "{a_{10}} \\  {a_{11}} \\ {a_{12}}\\\\\n",
    "{a_{20}} \\  {a_{21}} \\ {a_{22}}\n",
    "\\end{pmatrix}\n",
    "\\begin{pmatrix}\n",
    "x\\\\y\\\\1\n",
    "\\end{pmatrix}\n",
    "\\end{equation}\n",
    "\n",
    "The $\\sim$ denote equality up to scale, to find the points with the same scale we have to devide each vector\n",
    "$\\begin{pmatrix} \\tilde{x}'\\\\ \\tilde{y}'\\\\ \\tilde{z}' \\end{pmatrix}$ by $\\tilde{z}'$ :\n",
    "\n",
    "$\\begin{pmatrix} x'\\\\ y' \\end{pmatrix}$ = $\\begin{pmatrix} \\tilde{x}'/\\tilde{z}'\\\\ \\tilde{y}'/\\tilde{z}' \\end{pmatrix}$ "
   ]
  },
  {
   "cell_type": "code",
   "execution_count": 12,
   "metadata": {
    "collapsed": false
   },
   "outputs": [],
   "source": [
    "# parameters to set:\n",
    "a_00 = 0.7\n",
    "a_01 = 0.1\n",
    "a_02 = 0\n",
    "a_10 = 0.1\n",
    "a_11 = 0.3\n",
    "a_12 = 0\n",
    "a_20 = 0.1\n",
    "a_21 = 0.3\n",
    "a_22 = 1\n",
    "\n",
    "M = np.array([[a_00,a_01,a_02],[a_10,a_11,a_12],[a_20,a_21,a_22]])\n",
    "\n",
    "x_prj = np.zeros(x.shape)\n",
    "y_prj = np.zeros(y.shape)\n",
    "\n",
    "for m in range(ny):\n",
    "    for n in range(nx):\n",
    "        x_i = np.array([x[m,n],y[m,n],1])\n",
    "        X = np.dot(M,x_i.T)\n",
    "        x_prj[m,n] = X[0]/X[2]\n",
    "        y_prj[m,n] = X[1]/X[2]"
   ]
  },
  {
   "cell_type": "code",
   "execution_count": 29,
   "metadata": {
    "collapsed": false
   },
   "outputs": [
    {
     "data": {
      "image/png": "[encoded data removed]",
      "text/plain": [
       "<matplotlib.figure.Figure at 0x1ddabce8fd0>"
      ]
     },
     "metadata": {},
     "output_type": "display_data"
    }
   ],
   "source": [
    "# plot the original points\n",
    "plt.scatter(x_prj,y_prj)\n",
    "plt.xlabel(\"x\")\n",
    "plt.ylabel(\"y\")\n",
    "plt.axhline(y=0, color='k')\n",
    "plt.axvline(x=0, color='k')\n",
    "plt.axis('equal')\n",
    "plt.show()"
   ]
  }
 ],
 "metadata": {
  "kernelspec": {
   "display_name": "Python 3",
   "language": "python",
   "name": "python3"
  },
  "language_info": {
   "codemirror_mode": {
    "name": "ipython",
    "version": 3
   },
   "file_extension": ".py",
   "mimetype": "text/x-python",
   "name": "python",
   "nbconvert_exporter": "python",
   "pygments_lexer": "ipython3",
   "version": "3.6.0"
  }
 },
 "nbformat": 4,
 "nbformat_minor": 2
}
